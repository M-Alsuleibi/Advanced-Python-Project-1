{
 "cells": [
  {
   "cell_type": "code",
   "execution_count": 9,
   "id": "8c4abb78",
   "metadata": {},
   "outputs": [],
   "source": [
    "# Question 1:\n",
    "import functools\n",
    "import time\n",
    "def timing(func):\n",
    "    \"\"\"Print the runtime of the decorated function\"\"\"\n",
    "    @functools.wraps(func)\n",
    "    def wrapper_timing(*args, **kwargs):\n",
    "        # befor\n",
    "        start_time = time.perf_counter() # 1\n",
    "        # calling function\n",
    "        value = func(*args, **kwargs)\n",
    "        # after\n",
    "        end_time = time.perf_counter() # 2\n",
    "        run_time = end_time - start_time # 3\n",
    "        print(f\"Finished {func.__name__!r} in {run_time:.4f} secs\")\n",
    "        return value\n",
    "    return wrapper_timing"
   ]
  },
  {
   "cell_type": "code",
   "execution_count": 10,
   "id": "08861c0a",
   "metadata": {},
   "outputs": [],
   "source": [
    "# a- Use the timing decorator to measure the running time for the following function:\n",
    "@timing\n",
    "def waste_some_time(num_times):\n",
    "    for _ in range(num_times):\n",
    "        sum([i**2 for i in range(10000)])"
   ]
  },
  {
   "cell_type": "code",
   "execution_count": 15,
   "id": "54c9b590",
   "metadata": {},
   "outputs": [
    {
     "name": "stdout",
     "output_type": "stream",
     "text": [
      "Finished 'waste_some_time' in 2.0298 secs\n",
      "Finished 'waste_some_time' in 10.4222 secs\n",
      "Finished 'waste_some_time' in 21.3976 secs\n"
     ]
    }
   ],
   "source": [
    "waste_some_time(1000)\n",
    "waste_some_time(5000)\n",
    "waste_some_time(10000)\n",
    "\n",
    "\n"
   ]
  },
  {
   "cell_type": "code",
   "execution_count": 16,
   "id": "269e28b5",
   "metadata": {},
   "outputs": [],
   "source": [
    "# b- You are requested to use this module to measure the runtime for the first function, try\n",
    "#to read and apply and compare the results of using the decorator and the module.\n",
    "import timeit\n",
    "\n",
    "def waste_some_time(num_times):\n",
    "    for _ in range(num_times):\n",
    "        sum([i**2 for i in range(10000)])"
   ]
  },
  {
   "cell_type": "code",
   "execution_count": 17,
   "id": "bc7c1ac3",
   "metadata": {},
   "outputs": [
    {
     "name": "stdout",
     "output_type": "stream",
     "text": [
      "1.9169972999998208\n",
      "9.641249300000027\n",
      "19.77421100000015\n"
     ]
    }
   ],
   "source": [
    "print(timeit.timeit(lambda: waste_some_time(1000), number=1))\n",
    "print(timeit.timeit(lambda: waste_some_time(5000), number=1))\n",
    "print(timeit.timeit(lambda: waste_some_time(10000), number=1))\n",
    "\n"
   ]
  },
  {
   "cell_type": "code",
   "execution_count": null,
   "id": "f992ff13",
   "metadata": {},
   "outputs": [],
   "source": [
    "# c- Briefly, is there any difference between timing decorator and this module?\n",
    "\"\"\"\n",
    "Answer:\n",
    "\n",
    "1.the timing decorator measures the runtime of a function by wrapping it in a decorator, \n",
    "while the timeit module measures the runtime of\n",
    "a piece of code by repeatedly executing it and averaging the results.\n",
    "2.The timeit module is do more precise measurements of code,\n",
    "but the timing decorator is simpler to use and \n",
    "can be useful for quick and dirty measurements.\"\"\"\n",
    "\"\"\""
   ]
  },
  {
   "cell_type": "markdown",
   "id": "278a9f80",
   "metadata": {},
   "source": [
    "---\n"
   ]
  },
  {
   "cell_type": "code",
   "execution_count": null,
   "id": "9cea4777",
   "metadata": {},
   "outputs": [],
   "source": [
    "#Question 2: (OOP)\n",
    "# a- Briefly, What are static methods and class methods?\n",
    "\"\"\"\n",
    "1. Static methods are methods that belong to the class itself, rather than to any specific instance of the class.\n",
    "And do not have access to any instance-specific data or methods. \n",
    "\n",
    "2. Class methods are methods that are bound to the class and not the instance of the class. \n",
    "They have access to the class itself as their first argument, \n",
    "which is traditionally called cls instead of self. \n",
    "\"\"\""
   ]
  },
  {
   "cell_type": "code",
   "execution_count": 19,
   "id": "ef9d3d84",
   "metadata": {},
   "outputs": [
    {
     "name": "stdout",
     "output_type": "stream",
     "text": [
      "Instance method called with instance variable\n",
      "Class method called with class variable\n",
      "Static method called\n"
     ]
    }
   ],
   "source": [
    "# b-Implement any simple classyou want and apply three types of methods\n",
    "class MyClass:\n",
    "    \n",
    "    class_var = \"class variable\"\n",
    "    \n",
    "    def __init__(self, instance_var):\n",
    "        self.instance_var = instance_var\n",
    "        \n",
    "    def instance_method(self):\n",
    "        print(f\"Instance method called with {self.instance_var}\")\n",
    "        \n",
    "    @classmethod\n",
    "    def class_method(cls):\n",
    "        print(f\"Class method called with {cls.class_var}\")\n",
    "        \n",
    "    @staticmethod\n",
    "    def static_method():\n",
    "        print(\"Static method called\")\n",
    "        \n",
    "# Create an instance of MyClass\n",
    "obj = MyClass(\"instance variable\")\n",
    "\n",
    "# Call instance method\n",
    "obj.instance_method()\n",
    "\n",
    "# Call class method\n",
    "MyClass.class_method()\n",
    "\n",
    "# Call static method\n",
    "MyClass.static_method()\n"
   ]
  },
  {
   "cell_type": "markdown",
   "id": "24e738a7",
   "metadata": {},
   "source": [
    "---"
   ]
  },
  {
   "cell_type": "code",
   "execution_count": 26,
   "id": "3a9982d7",
   "metadata": {},
   "outputs": [],
   "source": [
    "# Question3: Functions\n",
    "def first_non_repeated_char(s):\n",
    "    s = s.lower()\n",
    "    char_count = {}\n",
    "    \n",
    "    for char in s:\n",
    "        if char not in char_count:\n",
    "            char_count[char] = 0\n",
    "        char_count[char] += 1\n",
    "        \n",
    "    for char in s:\n",
    "        if char_count[char] == 1:\n",
    "            return char\n",
    "            \n",
    "    return None\n"
   ]
  },
  {
   "cell_type": "code",
   "execution_count": 27,
   "id": "2b07c09b",
   "metadata": {},
   "outputs": [
    {
     "name": "stdout",
     "output_type": "stream",
     "text": [
      "e\n"
     ]
    }
   ],
   "source": [
    "input = 'Name naMag'\n",
    "output = first_non_repeated_char(input)\n",
    "print(output) \n"
   ]
  },
  {
   "cell_type": "code",
   "execution_count": null,
   "id": "df11b15f",
   "metadata": {},
   "outputs": [],
   "source": []
  }
 ],
 "metadata": {
  "kernelspec": {
   "display_name": "Python 3 (ipykernel)",
   "language": "python",
   "name": "python3"
  },
  "language_info": {
   "codemirror_mode": {
    "name": "ipython",
    "version": 3
   },
   "file_extension": ".py",
   "mimetype": "text/x-python",
   "name": "python",
   "nbconvert_exporter": "python",
   "pygments_lexer": "ipython3",
   "version": "3.9.12"
  }
 },
 "nbformat": 4,
 "nbformat_minor": 5
}
